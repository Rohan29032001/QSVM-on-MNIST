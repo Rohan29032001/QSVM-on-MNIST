{
 "cells": [
  {
   "cell_type": "markdown",
   "metadata": {},
   "source": [
    "# QSVM with ZZ-feature map"
   ]
  },
  {
   "cell_type": "code",
   "execution_count": 1,
   "metadata": {
    "id": "6ImChydYoh4r"
   },
   "outputs": [],
   "source": [
    "# Generalimports:\n",
    "import numpy as np\n",
    "import matplotlib.pyplot as plt"
   ]
  },
  {
   "cell_type": "code",
   "execution_count": 2,
   "metadata": {
    "id": "gni7Au49o106"
   },
   "outputs": [],
   "source": [
    "# Scikit learn imports:\n",
    "from sklearn import datasets  #Houses a bunch of datasets.\n",
    "from sklearn.model_selection import train_test_split  #Splits the data set into training and test set.\n",
    "from sklearn.preprocessing import StandardScaler, MinMaxScaler #Two types of scaling or regularizing (Standard ==> N(0,1)).\n",
    "from sklearn.decomposition import PCA #We are going to use PCA for dimensionality reduction.\n",
    "from sklearn.svm import SVC #The suppor vector classifier with a regularization parameter C\n",
    "from sklearn.metrics import accuracy_score  #To determine the accuracy at the end."
   ]
  },
  {
   "cell_type": "code",
   "execution_count": 3,
   "metadata": {
    "id": "IEPlRaR0pDUe"
   },
   "outputs": [],
   "source": [
    "# Data preperation:\n",
    "import tensorflow\n",
    "from tensorflow.keras.datasets import mnist\n",
    "(X_tr, Y_tr),(X_te,Y_te) = mnist.load_data()"
   ]
  },
  {
   "cell_type": "code",
   "execution_count": 4,
   "metadata": {
    "id": "RG8dDuD3pM9N"
   },
   "outputs": [],
   "source": [
    "x_train = []\n",
    "y_train = []\n",
    "for i in range(len(Y_tr)):\n",
    "    if Y_tr[i]== 4 or Y_tr[i]== 9:\n",
    "        x_train.append(X_tr[i].flatten())\n",
    "        y_train.append(Y_tr[i])\n",
    "        \n",
    "        \n",
    "x_test = []\n",
    "y_test = []\n",
    "for i in range(len(Y_te)):\n",
    "    if Y_te[i]== 4 or Y_te[i]== 9:\n",
    "        x_test.append(X_te[i].flatten())\n",
    "        y_test.append(Y_te[i])\n",
    "        \n",
    "X_train = np.array(x_train)\n",
    "Y_train = np.array(y_train)\n",
    "X_test = np.array(x_test)\n",
    "Y_test = np.array(y_test)"
   ]
  },
  {
   "cell_type": "code",
   "execution_count": 5,
   "metadata": {
    "colab": {
     "base_uri": "https://localhost:8080/"
    },
    "id": "Z6fe34nvpTL5",
    "outputId": "1747e81b-cc8c-49fd-a9d2-013643c40bb8"
   },
   "outputs": [
    {
     "name": "stdout",
     "output_type": "stream",
     "text": [
      "The shape of X_train is:  (11791, 784)\n",
      "The shape of Y_train is:  (11791,)\n",
      "The shape of X_test is:  (1991, 784)\n",
      "The shape of Y_test is:  (1991,)\n"
     ]
    }
   ],
   "source": [
    "print(\"The shape of X_train is: \", X_train.shape)\n",
    "print(\"The shape of Y_train is: \", Y_train.shape)\n",
    "print(\"The shape of X_test is: \", X_test.shape)\n",
    "print(\"The shape of Y_test is: \", Y_test.shape)"
   ]
  },
  {
   "cell_type": "code",
   "execution_count": 6,
   "metadata": {
    "colab": {
     "base_uri": "https://localhost:8080/",
     "height": 208
    },
    "id": "Wjnb_cQOpWXQ",
    "outputId": "377877e4-0216-47ed-f1e7-faac16447e80"
   },
   "outputs": [
    {
     "data": {
      "image/png": "[encoded data removed]",
      "text/plain": [
       "<Figure size 432x288 with 1 Axes>"
      ]
     },
     "metadata": {
      "needs_background": "light"
     },
     "output_type": "display_data"
    }
   ],
   "source": [
    "# Data point:  (point chosen at random from X_test)\n",
    "x1 = (X_train[34]).reshape((28,28))\n",
    "\n",
    "# Creating the plot:\n",
    "pixel_plot = plt.figure()\n",
    "\n",
    "# Plotting the plot\n",
    "pixel_plot.add_axes([1,0.5,1,0.5])\n",
    "\n",
    "# Title and configurations\n",
    "plt.title(\"Example of an image\")\n",
    "pixel_plot = plt.imshow(x1, cmap = \"Greys\")"
   ]
  },
  {
   "cell_type": "code",
   "execution_count": 7,
   "metadata": {
    "id": "dEV1_PRgpbAV"
   },
   "outputs": [],
   "source": [
    "# Standardize\n",
    "ss = StandardScaler()\n",
    "X_train_ = ss.fit_transform(X_train)\n",
    "X_test_ = ss.transform(X_test)"
   ]
  },
  {
   "cell_type": "code",
   "execution_count": 8,
   "metadata": {
    "id": "2cmdWxNFpflm"
   },
   "outputs": [],
   "source": [
    "# Reduce dimensions\n",
    "N_DIM = 12\n",
    "pca = PCA(n_components=N_DIM)\n",
    "X_train_ = pca.fit_transform(X_train_)\n",
    "X_test_ = pca.transform(X_test_)"
   ]
  },
  {
   "cell_type": "code",
   "execution_count": 9,
   "metadata": {
    "id": "SsG0AQkdphvJ"
   },
   "outputs": [],
   "source": [
    "# Normalize\n",
    "mms = MinMaxScaler((-1, 1))\n",
    "X_train_ = mms.fit_transform(X_train_)\n",
    "X_test_ = mms.transform(X_test_)"
   ]
  },
  {
   "cell_type": "code",
   "execution_count": 10,
   "metadata": {
    "id": "SBlotXJjp9MV"
   },
   "outputs": [],
   "source": [
    "# Qiskit imports:\n",
    "import qiskit\n",
    "\n",
    "# Importing standard Qiskit libraries\n",
    "from qiskit import QuantumCircuit, QuantumRegister, transpile, Aer, IBMQ, execute\n",
    "from qiskit.tools.jupyter import *\n",
    "from qiskit.visualization import *\n",
    "from qiskit.providers.aer import QasmSimulator\n",
    "from qiskit.circuit import QuantumCircuit, Parameter, ParameterVector\n",
    "from qiskit.circuit.library import PauliFeatureMap, ZFeatureMap, ZZFeatureMap\n",
    "from qiskit.circuit.library import TwoLocal, NLocal, RealAmplitudes, EfficientSU2\n",
    "from qiskit.circuit.library import HGate, RXGate, RYGate, RZGate, CXGate, CRXGate, CRZGate\n",
    "from qiskit_machine_learning.kernels import QuantumKernel"
   ]
  },
  {
   "cell_type": "markdown",
   "metadata": {},
   "source": [
    "### Towards Classification:"
   ]
  },
  {
   "cell_type": "code",
   "execution_count": 11,
   "metadata": {
    "id": "LRvr_Iv-zl4S"
   },
   "outputs": [],
   "source": [
    "zz_map_3 = ZZFeatureMap(feature_dimension=N_DIM, reps=1,entanglement='full')\n",
    "zz_kernel_3 = QuantumKernel(feature_map=zz_map_3, quantum_instance=Aer.get_backend('statevector_simulator'))"
   ]
  },
  {
   "cell_type": "code",
   "execution_count": 12,
   "metadata": {
    "id": "I6tloIbzb2EI"
   },
   "outputs": [],
   "source": [
    "matrix_train_3 = zz_kernel_3.evaluate(x_vec=X_train_)\n",
    "matrix_test_3 = zz_kernel_3.evaluate(x_vec=X_test_, y_vec=X_train_)"
   ]
  },
  {
   "cell_type": "code",
   "execution_count": 13,
   "metadata": {
    "colab": {
     "base_uri": "https://localhost:8080/"
    },
    "id": "QgaJYVvJb2KR",
    "outputId": "10d7c2d9-4ddf-4590-bf21-bd5dd55991b4"
   },
   "outputs": [
    {
     "name": "stdout",
     "output_type": "stream",
     "text": [
      "ZZ kernel 3 classification test score: 95.17830236062281%\n"
     ]
    }
   ],
   "source": [
    "zz_svc3 = SVC(kernel='precomputed')\n",
    "zz_svc3.fit(matrix_train_3, Y_train)\n",
    "zz_score3 = zz_svc3.score(matrix_test_3, Y_test)\n",
    "\n",
    "print(f'ZZ kernel 3 classification test score: {zz_score3*100}%')"
   ]
  },
  {
   "cell_type": "markdown",
   "metadata": {},
   "source": [
    "### Visualizing:\n",
    "Printing some test cases and looking at the misclassified cases."
   ]
  },
  {
   "cell_type": "code",
   "execution_count": 14,
   "metadata": {
    "colab": {
     "base_uri": "https://localhost:8080/",
     "height": 1000
    },
    "id": "Ibc3E9ZMb2No",
    "outputId": "da167f39-8f18-48ca-9b7f-b88508da32f8"
   },
   "outputs": [
    {
     "name": "stdout",
     "output_type": "stream",
     "text": [
      "____________________________________________________________________________________________\n",
      "Example number:1\n",
      "The actual label is:4\n",
      "The predicted label is: [4]\n",
      "____________________________________________________________________________________________\n",
      "Example number:2\n",
      "The actual label is:4\n",
      "The predicted label is: [4]\n",
      "____________________________________________________________________________________________\n",
      "Example number:3\n",
      "The actual label is:9\n",
      "The predicted label is: [9]\n",
      "____________________________________________________________________________________________\n",
      "Example number:4\n",
      "The actual label is:9\n",
      "The predicted label is: [9]\n",
      "____________________________________________________________________________________________\n",
      "Example number:5\n",
      "The actual label is:9\n",
      "The predicted label is: [9]\n",
      "____________________________________________________________________________________________\n",
      "Example number:6\n",
      "The actual label is:9\n",
      "The predicted label is: [9]\n",
      "____________________________________________________________________________________________\n",
      "Example number:7\n",
      "The actual label is:4\n",
      "The predicted label is: [4]\n",
      "____________________________________________________________________________________________\n",
      "Example number:8\n",
      "The actual label is:9\n",
      "The predicted label is: [9]\n",
      "____________________________________________________________________________________________\n",
      "Example number:9\n",
      "The actual label is:4\n",
      "The predicted label is: [4]\n",
      "____________________________________________________________________________________________\n",
      "Example number:10\n",
      "The actual label is:4\n",
      "The predicted label is: [4]\n",
      "____________________________________________________________________________________________\n",
      "Example number:11\n",
      "The actual label is:4\n",
      "The predicted label is: [4]\n",
      "____________________________________________________________________________________________\n",
      "Example number:12\n",
      "The actual label is:4\n",
      "The predicted label is: [4]\n",
      "____________________________________________________________________________________________\n",
      "Example number:13\n",
      "The actual label is:4\n",
      "The predicted label is: [4]\n",
      "____________________________________________________________________________________________\n",
      "Example number:14\n",
      "The actual label is:4\n",
      "The predicted label is: [4]\n",
      "____________________________________________________________________________________________\n",
      "Example number:15\n",
      "The actual label is:4\n",
      "The predicted label is: [4]\n",
      "____________________________________________________________________________________________\n",
      "Example number:16\n",
      "The actual label is:9\n",
      "The predicted label is: [9]\n",
      "____________________________________________________________________________________________\n",
      "Example number:17\n",
      "The actual label is:9\n",
      "The predicted label is: [9]\n",
      "____________________________________________________________________________________________\n",
      "Example number:18\n",
      "The actual label is:4\n",
      "The predicted label is: [4]\n",
      "____________________________________________________________________________________________\n",
      "Example number:19\n",
      "The actual label is:4\n",
      "The predicted label is: [4]\n",
      "____________________________________________________________________________________________\n",
      "Example number:20\n",
      "The actual label is:9\n",
      "The predicted label is: [9]\n",
      "____________________________________________________________________________________________\n",
      "Example number:21\n",
      "The actual label is:9\n",
      "The predicted label is: [9]\n",
      "____________________________________________________________________________________________\n",
      "Example number:22\n",
      "The actual label is:4\n",
      "The predicted label is: [4]\n",
      "____________________________________________________________________________________________\n",
      "Example number:23\n",
      "The actual label is:9\n",
      "The predicted label is: [4]\n",
      "____________________________________________________________________________________________\n",
      "Example number:24\n",
      "The actual label is:4\n",
      "The predicted label is: [4]\n",
      "____________________________________________________________________________________________\n",
      "Example number:25\n",
      "The actual label is:9\n",
      "The predicted label is: [9]\n",
      "____________________________________________________________________________________________\n",
      "Example number:26\n",
      "The actual label is:4\n",
      "The predicted label is: [4]\n",
      "____________________________________________________________________________________________\n",
      "Example number:27\n",
      "The actual label is:9\n",
      "The predicted label is: [9]\n",
      "____________________________________________________________________________________________\n",
      "Example number:28\n",
      "The actual label is:9\n",
      "The predicted label is: [9]\n",
      "____________________________________________________________________________________________\n",
      "Example number:29\n",
      "The actual label is:9\n",
      "The predicted label is: [9]\n",
      "____________________________________________________________________________________________\n",
      "Example number:30\n",
      "The actual label is:4\n",
      "The predicted label is: [4]\n",
      "____________________________________________________________________________________________\n",
      "Example number:31\n",
      "The actual label is:9\n",
      "The predicted label is: [9]\n",
      "____________________________________________________________________________________________\n",
      "Example number:32\n",
      "The actual label is:4\n",
      "The predicted label is: [4]\n",
      "____________________________________________________________________________________________\n",
      "Example number:33\n",
      "The actual label is:4\n",
      "The predicted label is: [4]\n",
      "____________________________________________________________________________________________\n",
      "Example number:34\n",
      "The actual label is:4\n",
      "The predicted label is: [4]\n",
      "____________________________________________________________________________________________\n",
      "Example number:35\n",
      "The actual label is:9\n",
      "The predicted label is: [9]\n",
      "____________________________________________________________________________________________\n",
      "Example number:36\n",
      "The actual label is:4\n",
      "The predicted label is: [4]\n",
      "____________________________________________________________________________________________\n",
      "Example number:37\n",
      "The actual label is:9\n",
      "The predicted label is: [9]\n",
      "____________________________________________________________________________________________\n",
      "Example number:38\n",
      "The actual label is:4\n",
      "The predicted label is: [4]\n",
      "____________________________________________________________________________________________\n",
      "Example number:39\n",
      "The actual label is:9\n",
      "The predicted label is: [9]\n",
      "____________________________________________________________________________________________\n",
      "Example number:40\n",
      "The actual label is:9\n",
      "The predicted label is: [9]\n",
      "____________________________________________________________________________________________\n",
      "Example number:41\n",
      "The actual label is:4\n",
      "The predicted label is: [4]\n",
      "____________________________________________________________________________________________\n",
      "Example number:42\n",
      "The actual label is:4\n",
      "The predicted label is: [4]\n",
      "____________________________________________________________________________________________\n",
      "Example number:43\n",
      "The actual label is:4\n",
      "The predicted label is: [4]\n",
      "____________________________________________________________________________________________\n",
      "Example number:44\n",
      "The actual label is:4\n",
      "The predicted label is: [4]\n",
      "____________________________________________________________________________________________\n",
      "Example number:45\n",
      "The actual label is:4\n",
      "The predicted label is: [4]\n",
      "____________________________________________________________________________________________\n",
      "Example number:46\n",
      "The actual label is:4\n",
      "The predicted label is: [4]\n",
      "____________________________________________________________________________________________\n",
      "Example number:47\n",
      "The actual label is:9\n",
      "The predicted label is: [9]\n",
      "____________________________________________________________________________________________\n",
      "Example number:48\n",
      "The actual label is:9\n",
      "The predicted label is: [9]\n",
      "____________________________________________________________________________________________\n",
      "Example number:49\n",
      "The actual label is:4\n",
      "The predicted label is: [4]\n",
      "____________________________________________________________________________________________\n",
      "Example number:50\n",
      "The actual label is:9\n",
      "The predicted label is: [9]\n",
      "ZZ kernel 3 classification test score: 95.17830236062281%\n"
     ]
    },
    {
     "data": {
      "image/png": "[encoded data removed]",
      "text/plain": [
       "<Figure size 432x288 with 1 Axes>"
      ]
     },
     "metadata": {
      "needs_background": "light"
     },
     "output_type": "display_data"
    }
   ],
   "source": [
    "for i in range(50):\n",
    "    x1_ = matrix_test_3[i].reshape(1, -1)\n",
    "    print(\"____________________________________________________________________________________________\")\n",
    "    print(f\"Example number:{i+1}\")\n",
    "    print(f\"The actual label is:{Y_test[i]}\")\n",
    "    print(f\"The predicted label is: {zz_svc3.predict(x1_)}\")\n",
    "    \n",
    "    if int(zz_svc3.predict(x1_)) != Y_test[i]:\n",
    "        x1 = (X_test[i]).reshape((28,28))\n",
    "        pixel_plot = plt.figure()\n",
    "        pixel_plot.add_axes([1,0.5,1,0.5])\n",
    "        plt.title(f\"Image: {i+1} was misclassified\")\n",
    "        pixel_plot = plt.imshow(x1, cmap = \"Greys\")\n",
    "    \n",
    "    \n",
    "\n",
    "print(f'ZZ kernel 3 classification test score: {zz_score3*100}%')"
   ]
  },
  {
   "cell_type": "markdown",
   "metadata": {},
   "source": [
    "### Results and Discussions:\n",
    "Support Vector Machine enhanced with the ZZ-kernel gave an accuracy of 95.18% on the MNIST (4 vs 9) dataset after PCA was used to reduce the 784 dimensional data to 12. This was obtained after trying and testing multiple types (full, circular etc.) and number of repetetions of the Entanglement blocks. "
   ]
  }
 ],
 "metadata": {
  "colab": {
   "provenance": []
  },
  "kernelspec": {
   "display_name": "Python 3 (ipykernel)",
   "language": "python",
   "name": "python3"
  },
  "language_info": {
   "codemirror_mode": {
    "name": "ipython",
    "version": 3
   },
   "file_extension": ".py",
   "mimetype": "text/x-python",
   "name": "python",
   "nbconvert_exporter": "python",
   "pygments_lexer": "ipython3",
   "version": "3.8.8"
  }
 },
 "nbformat": 4,
 "nbformat_minor": 1
}
